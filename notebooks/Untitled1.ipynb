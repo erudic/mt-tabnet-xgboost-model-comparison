{
 "cells": [
  {
   "cell_type": "code",
   "execution_count": 1,
   "id": "3c5f05be-fc82-45e7-b64d-dee5f81a6580",
   "metadata": {},
   "outputs": [
    {
     "ename": "ModuleNotFoundError",
     "evalue": "No module named 'model_trainer'",
     "output_type": "error",
     "traceback": [
      "\u001b[0;31m---------------------------------------------------------------------------\u001b[0m",
      "\u001b[0;31mModuleNotFoundError\u001b[0m                       Traceback (most recent call last)",
      "Input \u001b[0;32mIn [1]\u001b[0m, in \u001b[0;36m<cell line: 1>\u001b[0;34m()\u001b[0m\n\u001b[0;32m----> 1\u001b[0m \u001b[38;5;28;01mfrom\u001b[39;00m \u001b[38;5;21;01mmodel_trainer\u001b[39;00m\u001b[38;5;21;01m.\u001b[39;00m\u001b[38;5;21;01mtrainers\u001b[39;00m \u001b[38;5;28;01mimport\u001b[39;00m XGBoostTrainer\n",
      "\u001b[0;31mModuleNotFoundError\u001b[0m: No module named 'model_trainer'"
     ]
    }
   ],
   "source": [
    "from model_trainer.trainers import XGBoostTrainer"
   ]
  },
  {
   "cell_type": "code",
   "execution_count": 2,
   "id": "157c6fa9-cd33-42e6-a8b9-bb35765c70c2",
   "metadata": {},
   "outputs": [],
   "source": [
    "import trainers"
   ]
  },
  {
   "cell_type": "code",
   "execution_count": 3,
   "id": "db271589-2297-42bf-a278-0f503103dc69",
   "metadata": {},
   "outputs": [
    {
     "ename": "AttributeError",
     "evalue": "module 'trainers' has no attribute 'xgboost_trainer'",
     "output_type": "error",
     "traceback": [
      "\u001b[0;31m---------------------------------------------------------------------------\u001b[0m",
      "\u001b[0;31mAttributeError\u001b[0m                            Traceback (most recent call last)",
      "Input \u001b[0;32mIn [3]\u001b[0m, in \u001b[0;36m<cell line: 1>\u001b[0;34m()\u001b[0m\n\u001b[0;32m----> 1\u001b[0m \u001b[43mtrainers\u001b[49m\u001b[38;5;241;43m.\u001b[39;49m\u001b[43mxgboost_trainer\u001b[49m\u001b[38;5;241m.\u001b[39mXGBoostTrainer\n",
      "\u001b[0;31mAttributeError\u001b[0m: module 'trainers' has no attribute 'xgboost_trainer'"
     ]
    }
   ],
   "source": [
    "trainers.xgboost_trainer.XGBoostTrainer"
   ]
  },
  {
   "cell_type": "code",
   "execution_count": 7,
   "id": "c9b3b426-164f-4f71-b61a-07433b7635fb",
   "metadata": {},
   "outputs": [],
   "source": [
    "from model_trainer.trainers.xgboost_trainer import XGBoostTrainer"
   ]
  },
  {
   "cell_type": "code",
   "execution_count": 1,
   "id": "aa73b1ed-0601-4212-9d3b-eede14a58b16",
   "metadata": {},
   "outputs": [],
   "source": []
  },
  {
   "cell_type": "code",
   "execution_count": null,
   "id": "e15bec9f-0e18-44e1-b367-a2d3e19883af",
   "metadata": {},
   "outputs": [],
   "source": []
  }
 ],
 "metadata": {
  "kernelspec": {
   "display_name": "Python 3 (ipykernel)",
   "language": "python",
   "name": "python3"
  },
  "language_info": {
   "codemirror_mode": {
    "name": "ipython",
    "version": 3
   },
   "file_extension": ".py",
   "mimetype": "text/x-python",
   "name": "python",
   "nbconvert_exporter": "python",
   "pygments_lexer": "ipython3",
   "version": "3.10.4"
  }
 },
 "nbformat": 4,
 "nbformat_minor": 5
}
