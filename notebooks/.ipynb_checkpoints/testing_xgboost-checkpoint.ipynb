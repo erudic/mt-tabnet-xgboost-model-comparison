{
 "cells": [
  {
   "cell_type": "code",
   "execution_count": 3,
   "id": "65085d6d-0f28-4a86-8f95-a8a25d49b79b",
   "metadata": {},
   "outputs": [
    {
     "name": "stdout",
     "output_type": "stream",
     "text": [
      "/notebooks/mt-tabnet-xgboost-model-comparison\n"
     ]
    }
   ],
   "source": [
    "%cd ../"
   ]
  },
  {
   "cell_type": "code",
   "execution_count": 11,
   "id": "dc8547c2-e0cc-4113-896f-59bc6fd1afa3",
   "metadata": {},
   "outputs": [],
   "source": [
    "import argparse\n",
    "from functools import partial\n",
    "import json\n",
    "import os\n",
    "import pickle\n",
    "from model_trainer.xgboost.xgboost_trainer import XGBoostTrainer\n",
    "from model_trainer.data.process_only_data_box import ProccessOnlyDataBox\n",
    "from model_trainer.data import data_loader\n",
    "from tuning_config import spaces, base_class_weights_large\n",
    "import data_config\n",
    "from hyperopt import space_eval\n",
    "import numpy as np\n",
    "from xgboost.callback import EarlyStopping\n",
    "# TODO: import this\n",
    "from sklearn.metrics import accuracy_score, matthews_corrcoef, f1_score, confusion_matrix\n",
    "\n",
    "\n",
    "def process_params(params):\n",
    "    cw_modifier = params.pop('cw_modifier')\n",
    "    class_weights = base_class_weights_large.copy()\n",
    "    class_weights[1] = class_weights[1]*cw_modifier\n",
    "    class_weights = {index: value for index, value in enumerate(class_weights)}\n",
    "    return params, class_weights\n"
   ]
  },
  {
   "cell_type": "code",
   "execution_count": 12,
   "id": "267384aa-25d1-447b-8f07-e485d9e8896d",
   "metadata": {},
   "outputs": [
    {
     "name": "stdout",
     "output_type": "stream",
     "text": [
      "Processing data\n",
      "Loading trial from path: trials/xgboost-small.p\n",
      "[0]\tvalidation_0-mlogloss:1.25505\tvalidation_1-mlogloss:1.26526\n",
      "[1]\tvalidation_0-mlogloss:1.15374\tvalidation_1-mlogloss:1.17273\n",
      "[2]\tvalidation_0-mlogloss:1.07113\tvalidation_1-mlogloss:1.09805\n",
      "[3]\tvalidation_0-mlogloss:1.00424\tvalidation_1-mlogloss:1.03814\n",
      "[4]\tvalidation_0-mlogloss:0.94728\tvalidation_1-mlogloss:0.98928\n"
     ]
    }
   ],
   "source": [
    "min_delta=1e-3\n",
    "data_size=\"small\"\n",
    "base_data_path=\"data\"\n",
    "info_output_path=\"info-test\"\n",
    "early_stop_rounds=2\n",
    "\n",
    "X_train, Y_train = data_loader.load(\n",
    "    data_size, base_data_path, 'train_val')\n",
    "X_test, Y_test = data_loader.load(\n",
    "    data_size, base_data_path, 'test'\n",
    ")\n",
    "\n",
    "os.makedirs(info_output_path,exist_ok=True) # creating info output dir\n",
    "\n",
    "print(\"Processing data\")\n",
    "po_db = ProccessOnlyDataBox(\n",
    "    X_train, Y_train, X_test, Y_test, data_config.categorical_variables)\n",
    "X_train, Y_train, X_test, Y_test = next(po_db.get_processed_data())\n",
    "\n",
    "trials_in_path = f\"trials/xgboost-{data_size}.p\"\n",
    "print(f\"Loading trial from path: {trials_in_path}\")\n",
    "with open(trials_in_path, 'rb') as in_file:\n",
    "    trials = pickle.load(in_file)\n",
    "\n",
    "space = spaces['xgboost']\n",
    "best_hyperparams = space_eval(space, trials.argmin)\n",
    "best_hyperparams['n_estimators']=5\n",
    "\n",
    "model_params, class_weights = process_params(best_hyperparams)\n",
    "# reinitialize callbacks\n",
    "callbacks = [\n",
    "    EarlyStopping(rounds=early_stop_rounds,\n",
    "                save_best=True, min_delta=min_delta)\n",
    "]\n",
    "\n",
    "xt = XGBoostTrainer(model_params, class_weights, callbacks)\n",
    "model, metric = xt.train_and_validate(\n",
    "    X_train, Y_train, X_test, Y_test, verbosity=1)\n"
   ]
  },
  {
   "cell_type": "code",
   "execution_count": 13,
   "id": "79a8d40e-1e6f-48d1-8323-ba008195ce60",
   "metadata": {},
   "outputs": [
    {
     "name": "stdout",
     "output_type": "stream",
     "text": [
      "mcc: 0.35789091441111787\n",
      "f1 weighted: 0.8057012519909181\n",
      "accuracy: 0.7597659338921398%\n",
      "confusion mat:\n",
      "[[  458    30    26     7]\n",
      " [ 1999 39509  5685  3467]\n",
      " [  158   557  1994   393]\n",
      " [   40   741   568  1275]]\n",
      "{'mcc': 0.35789091441111787, 'f1': 0.8057012519909181, 'confusion_m': array([[  458,    30,    26,     7],\n",
      "       [ 1999, 39509,  5685,  3467],\n",
      "       [  158,   557,  1994,   393],\n",
      "       [   40,   741,   568,  1275]]), 'acc': 0.7597659338921398}\n"
     ]
    }
   ],
   "source": [
    "from matplotlib import pyplot as plt\n",
    "#TODO: metrics \n",
    "# TODO: learning curve\n",
    "# evaluate performance\n",
    "preds = model.predict(X_test)\n",
    "\n",
    "mcc = matthews_corrcoef(Y_test,preds)\n",
    "print(f\"mcc: {mcc}\")\n",
    "f1_weighted = f1_score(Y_test,preds,average='weighted')\n",
    "print(f\"f1 weighted: {f1_weighted}\")\n",
    "accuracy = accuracy_score(Y_test,preds)\n",
    "print(f\"accuracy: {accuracy}%\")\n",
    "confusion_mat = confusion_matrix(Y_test,preds)\n",
    "print(f\"confusion mat:\\n{confusion_mat}\")\n",
    "\n",
    "metrics = {\n",
    "    \"mcc\": mcc,\n",
    "    \"f1\": f1_weighted,\n",
    "    \"confusion_m\":confusion_mat,\n",
    "    \"acc\": accuracy\n",
    "}"
   ]
  },
  {
   "cell_type": "code",
   "execution_count": 7,
   "id": "33bcd434-d006-42ab-9a5d-c40f54ea5522",
   "metadata": {},
   "outputs": [
    {
     "data": {
      "text/plain": [
       "[<matplotlib.lines.Line2D at 0x7f350ca2a050>]"
      ]
     },
     "execution_count": 7,
     "metadata": {},
     "output_type": "execute_result"
    },
    {
     "data": {
      "image/png": "[encoded data removed]",
      "text/plain": [
       "<Figure size 432x288 with 1 Axes>"
      ]
     },
     "metadata": {
      "needs_background": "light"
     },
     "output_type": "display_data"
    }
   ],
   "source": [
    "train_loss = results['validation_0']['mlogloss']\n",
    "rng = np.range(lean(\n",
    "plt.plot(results['validation_0']['mlogloss'], label='train')\n",
    "plt.plot(results['validation_1']['mlogloss'], label='test')"
   ]
  },
  {
   "cell_type": "code",
   "execution_count": 10,
   "id": "82599018-8101-471e-b843-d0cdaedcf4ca",
   "metadata": {},
   "outputs": [
    {
     "name": "stdout",
     "output_type": "stream",
     "text": [
      "Loading trial from path: trials/xgboost-small.p\n"
     ]
    }
   ],
   "source": [
    "trials_in_path = f\"trials/xgboost-{data_size}.p\"\n",
    "print(f\"Loading trial from path: {trials_in_path}\")\n",
    "with open(trials_in_path, 'rb') as in_file:\n",
    "    trials = pickle.load(in_file)\n",
    "\n",
    "space = spaces['xgboost']\n",
    "best_hyperparams = space_eval(space, trials.argmin)\n"
   ]
  },
  {
   "cell_type": "code",
   "execution_count": 11,
   "id": "cde0987b-7859-40a8-b121-a6e20d8e6671",
   "metadata": {},
   "outputs": [
    {
     "data": {
      "text/plain": [
       "{'alpha': 2.5254086047116173,\n",
       " 'cw_modifier': 1.5,\n",
       " 'eta': 0.1448110011361952,\n",
       " 'gamma': 2.8184397966710937,\n",
       " 'lambda': 2.2422484118022297,\n",
       " 'max_delta_step': 7.123125948002439,\n",
       " 'max_depth': 10,\n",
       " 'min_child_weight': 4.2808020966224,\n",
       " 'n_estimators': 1000,\n",
       " 'subsample': 0.6875835975467501,\n",
       " 'tree_method': 'exact'}"
      ]
     },
     "execution_count": 11,
     "metadata": {},
     "output_type": "execute_result"
    }
   ],
   "source": [
    "best_hyperparams['n_estimators']=5"
   ]
  },
  {
   "cell_type": "code",
   "execution_count": null,
   "id": "3d1d2610-5047-477e-bbf7-1443a015f5a5",
   "metadata": {},
   "outputs": [],
   "source": []
  }
 ],
 "metadata": {
  "kernelspec": {
   "display_name": "Python 3 (ipykernel)",
   "language": "python",
   "name": "python3"
  },
  "language_info": {
   "codemirror_mode": {
    "name": "ipython",
    "version": 3
   },
   "file_extension": ".py",
   "mimetype": "text/x-python",
   "name": "python",
   "nbconvert_exporter": "python",
   "pygments_lexer": "ipython3",
   "version": "3.7.11"
  }
 },
 "nbformat": 4,
 "nbformat_minor": 5
}
