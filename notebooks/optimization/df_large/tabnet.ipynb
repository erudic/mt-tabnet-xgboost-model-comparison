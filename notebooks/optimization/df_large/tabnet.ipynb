{
 "cells": [
  {
   "cell_type": "code",
   "execution_count": 2,
   "id": "e0d8e528-5dfd-4219-b342-96a48180c31e",
   "metadata": {},
   "outputs": [],
   "source": [
    "import pandas as pd\n",
    "import numpy as np\n",
    "from ast import literal_eval\n",
    "from sklearn.model_selection import train_test_split\n",
    "from sklearn import preprocessing\n",
    "from model_trainer.trainers.tabnet_trainer import TabNetTrainer\n",
    "from fastai.tabular.all import *"
   ]
  },
  {
   "cell_type": "code",
   "execution_count": 3,
   "id": "5ede4795-793b-4659-9861-84d450708b07",
   "metadata": {},
   "outputs": [],
   "source": [
    "df = pd.read_csv('../../../data/dataset_initial.csv')\n",
    "df['Weather_Condition_Arr'] = df['Weather_Condition_Arr'].apply(lambda x: literal_eval(x) if str(x)!='nan' else x)\n",
    "X, y = df[df.columns.drop('Severity')], df['Severity']"
   ]
  },
  {
   "cell_type": "code",
   "execution_count": 4,
   "id": "a35f723b-3a40-4461-82b4-260a785ec998",
   "metadata": {},
   "outputs": [],
   "source": [
    "X_train_val_test, Y_train_val_test = X.copy(),y.copy()\n",
    "X_train_val,X_val,Y_train_val,Y_val = train_test_split(X_train_val_test, Y_train_val_test,train_size=0.8,stratify=Y_train_val_test)"
   ]
  },
  {
   "cell_type": "code",
   "execution_count": null,
   "id": "44b2f979",
   "metadata": {},
   "outputs": [],
   "source": [
    "categorical_variables = ['Side', 'State', 'Amenity','Bump','Crossing',\n",
    "                         'Give_Way', 'Junction','No_Exit',\n",
    "                         'Railway','Roundabout','Station','Stop',\n",
    "                         'Traffic_Calming','Traffic_Signal','Turning_Loop',\n",
    "                         'Sunrise_Sunset','Civil_Twilight','Nautical_Twilight',\n",
    "                         'Astronomical_Twilight']"
   ]
  },
  {
   "cell_type": "code",
   "execution_count": 4,
   "id": "4119fc34-56e8-4f05-89aa-a4f21dcbe321",
   "metadata": {},
   "outputs": [],
   "source": [
    "from hyperopt import STATUS_OK,hp,tpe,Trials,fmin\n",
    "from hyperopt.pyll import scope\n",
    "\n",
    "tabnet_large_space={\n",
    "    \"lookahead\": hp.choice(\"lookahead\",[False,True]),\n",
    "    \"optimizer\": hp.choice('optimizer',[\n",
    "        {\n",
    "            \"opttype\":\"Adam\",\n",
    "             \"wd\":hp.loguniform('wdadam', np.log(0.0001), np.log(0.3))\n",
    "        },\n",
    "        {\n",
    "            \"opttype\":\"SGD\",\n",
    "            \"wd\":hp.loguniform('wdsgd', np.log(0.0001), np.log(0.3))\n",
    "        },\n",
    "        {\n",
    "            \"opttype\":\"RAdam\",\n",
    "            \"wd\":hp.loguniform('wdradam', np.log(0.0001), np.log(0.3))\n",
    "        }\n",
    "    ]),\n",
    "    \"n\":scope.int(hp.choice(\"n\",[8,32,64])),\n",
    "    \"n_steps\":scope.int(hp.quniform(\"n_steps\",3,10,1)),\n",
    "    \"gamma\":hp.uniform(\"gamma\",1,2),\n",
    "    \"momentum\":hp.uniform(\"momentum\",0,1),\n",
    "    \"lr\":hp.choice(\"lr\",[0.005,0.01,0.02,0.025]),\n",
    "    \"batch_size\":hp.quniform(\"batch_size\",12,15,1),\n",
    "    \"virtual_batch_size\":hp.quniform(\"virtual_batch_size\",8,11,1)\n",
    "    }\n"
   ]
  },
  {
   "cell_type": "code",
   "execution_count": 6,
   "id": "91110192-c9b8-45c1-b8f3-224cb90322e7",
   "metadata": {},
   "outputs": [],
   "source": [
    "def get_optimizer(opttype,opt_params,lookahead):\n",
    "    OPT_DICT = {\n",
    "        \"Adam\":Adam,\n",
    "        \"RAdam\":RAdam,\n",
    "        \"SGD\":SGD\n",
    "    }\n",
    "    opt_constructor = OPT_DICT[opttype]\n",
    "    if lookahead:\n",
    "        partial_opt = lambda spliter,lr: Lookahead(opt_constructor(spliter,lr,**opt_params))\n",
    "        optimizer = partial_opt\n",
    "    else:\n",
    "        optimizer = partial(opt_constructor,**opt_params)\n",
    "    return optimizer\n",
    "\n",
    "def process_params(params):\n",
    "    params['batch_size'] = int(np.power(2,params['batch_size']))\n",
    "    params['virtual_batch_size'] = int(np.power(2,params['virtual_batch_size']))\n",
    "\n",
    "    opt_params = params.pop('optimizer')\n",
    "    opttype = opt_params.pop('opttype')\n",
    "    lookahead = params.pop('lookahead')\n",
    "    optimizer = get_optimizer(opttype,opt_params,lookahead)\n",
    "    \n",
    "    params['optimizer'] = optimizer\n",
    "    n=params.pop('n')\n",
    "    params['n_d']=n\n",
    "    params['n_a']=n\n",
    "    return params\n",
    "    \n"
   ]
  },
  {
   "cell_type": "markdown",
   "id": "d5010e80-a06d-47fa-80c8-05d6a332bef4",
   "metadata": {},
   "source": [
    "Dumping trial object after each evaluation to preserve the state."
   ]
  },
  {
   "cell_type": "code",
   "execution_count": null,
   "id": "fcc7af0e-12e3-4883-ae38-b8d24668c1cf",
   "metadata": {},
   "outputs": [],
   "source": []
  }
 ],
 "metadata": {
  "kernelspec": {
   "display_name": "Python 3 (ipykernel)",
   "language": "python",
   "name": "python3"
  },
  "language_info": {
   "codemirror_mode": {
    "name": "ipython",
    "version": 3
   },
   "file_extension": ".py",
   "mimetype": "text/x-python",
   "name": "python",
   "nbconvert_exporter": "python",
   "pygments_lexer": "ipython3",
   "version": "3.7.11"
  }
 },
 "nbformat": 4,
 "nbformat_minor": 5
}
