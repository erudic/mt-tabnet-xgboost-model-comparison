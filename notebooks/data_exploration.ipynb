{
 "cells": [
  {
   "cell_type": "code",
   "execution_count": 2,
   "id": "7c41a25f-fff3-4936-86c3-398f8dbbb318",
   "metadata": {},
   "outputs": [],
   "source": [
    "import pandas"
   ]
  },
  {
   "cell_type": "code",
   "execution_count": null,
   "id": "0be08be5-0f2c-4fca-9a89-34a99c42259c",
   "metadata": {},
   "outputs": [],
   "source": [
    "df = pandas.read_csv('../data/US_Accidents_Dec21_updated.csv')"
   ]
  },
  {
   "cell_type": "code",
   "execution_count": null,
   "id": "13f82499-d6f7-457d-8530-c98d094506ee",
   "metadata": {},
   "outputs": [],
   "source": [
    "print(f\"len(df)={len(df)}\")\n",
    "print(\"\")\n",
    "print(\"col names and types\")\n",
    "print(\"------------------------------------\")\n",
    "print(df.dtypes)\n",
    "print(f\"len(df.dtypes)={len(df.dtypes)}\")"
   ]
  },
  {
   "cell_type": "markdown",
   "id": "13ee66ef-44f9-4dbe-89f3-d0ea8f7fbeb0",
   "metadata": {},
   "source": [
    "## Object datatypes"
   ]
  },
  {
   "cell_type": "code",
   "execution_count": null,
   "id": "dc59021a-b9b8-4a0a-89cd-edcea3083069",
   "metadata": {},
   "outputs": [],
   "source": [
    "object_cols = df.columns[df.dtypes=='object']\n",
    "objects = df[object_cols]\n",
    "objects"
   ]
  },
  {
   "cell_type": "code",
   "execution_count": null,
   "id": "9c94f1ad-c4a0-4655-8ec6-73a859bdce9f",
   "metadata": {},
   "outputs": [],
   "source": [
    "\n",
    "drop_list = []"
   ]
  },
  {
   "cell_type": "code",
   "execution_count": null,
   "id": "64729a5f-2b06-4121-92c9-26a1f8b70125",
   "metadata": {},
   "outputs": [],
   "source": [
    "print(\"Some features are very high in cardinality\")\n",
    "{col:len(df[col].unique()) for col in objects}"
   ]
  },
  {
   "cell_type": "markdown",
   "id": "a91e2dd3-6ae3-474c-ad71-abf9527dba34",
   "metadata": {},
   "source": [
    "### Weather_Condition"
   ]
  },
  {
   "cell_type": "code",
   "execution_count": null,
   "id": "d0feae9c-6023-42ad-8f43-1bf3511e7480",
   "metadata": {},
   "outputs": [],
   "source": [
    "df['Weather_Condition'].value_counts()"
   ]
  },
  {
   "cell_type": "code",
   "execution_count": null,
   "id": "6cd0881d-5b63-4294-aebc-64fa107760c8",
   "metadata": {},
   "outputs": [],
   "source": [
    "weathers = val_counts.index\n",
    "[w for w in weathers if 'Windy' in w]"
   ]
  },
  {
   "cell_type": "markdown",
   "id": "85d64653-d8d1-415d-a10a-714974f83971",
   "metadata": {},
   "source": [
    "Trying to reduce number of classes. Checking that windy present means that Wind_Direction is also present ie. it is not calm."
   ]
  },
  {
   "cell_type": "code",
   "execution_count": null,
   "id": "01290219-bb2a-46ec-b23c-5f2d5ed7bda2",
   "metadata": {},
   "outputs": [],
   "source": [
    "df[df['Weather_Condition'].str.contains('Windy',na=False)]"
   ]
  },
  {
   "cell_type": "markdown",
   "id": "a8277692-6371-497d-be9b-9309db43be20",
   "metadata": {},
   "source": [
    "Also checking how many weather types contain multiple descriptions."
   ]
  },
  {
   "cell_type": "code",
   "execution_count": 68,
   "id": "328d4906-f77b-479d-9495-e81e364e129a",
   "metadata": {},
   "outputs": [
    {
     "data": {
      "text/plain": [
       "['Fair / Windy',\n",
       " 'Cloudy / Windy',\n",
       " 'Mostly Cloudy / Windy',\n",
       " 'Partly Cloudy / Windy',\n",
       " 'Light Rain / Windy',\n",
       " 'Light Snow / Windy',\n",
       " 'Rain / Windy',\n",
       " 'N/A Precipitation',\n",
       " 'Heavy Rain / Windy',\n",
       " 'Haze / Windy',\n",
       " 'Snow / Windy',\n",
       " 'Heavy T-Storm / Windy',\n",
       " 'Fog / Windy',\n",
       " 'T-Storm / Windy',\n",
       " 'Thunder / Windy',\n",
       " 'Heavy Snow / Windy',\n",
       " 'Blowing Dust / Windy',\n",
       " 'Light Drizzle / Windy',\n",
       " 'Blowing Snow / Windy',\n",
       " 'Wintry Mix / Windy',\n",
       " 'Smoke / Windy',\n",
       " 'Light Freezing Rain / Windy',\n",
       " 'Squalls / Windy',\n",
       " 'Snow and Sleet / Windy',\n",
       " 'Widespread Dust / Windy',\n",
       " 'Light Snow and Sleet / Windy',\n",
       " 'Sand / Dust Whirlwinds',\n",
       " 'Drizzle / Windy',\n",
       " 'Light Sleet / Windy',\n",
       " 'Light Rain Shower / Windy',\n",
       " 'Thunder / Wintry Mix',\n",
       " 'Patches of Fog / Windy',\n",
       " 'Thunder / Wintry Mix / Windy',\n",
       " 'Sand / Windy',\n",
       " 'Snow and Thunder / Windy',\n",
       " 'Freezing Rain / Windy',\n",
       " 'Sand / Dust Whirlwinds / Windy',\n",
       " 'Sand / Dust Whirls Nearby',\n",
       " 'Heavy Rain Shower / Windy',\n",
       " 'Sleet / Windy',\n",
       " 'Mist / Windy',\n",
       " 'Thunder and Hail / Windy']"
      ]
     },
     "execution_count": 68,
     "metadata": {},
     "output_type": "execute_result"
    }
   ],
   "source": [
    "[w for w in weathers if '/' in w]"
   ]
  },
  {
   "cell_type": "markdown",
   "id": "cb46c81c-d648-4acc-8c84-2b0d6e2469d6",
   "metadata": {},
   "source": [
    "Mostly multiple descriptions mean windy. Exceptions are: **Dust Whirlwinds**, **Dust Whirls Nearby** and **Wintry Mix**"
   ]
  },
  {
   "cell_type": "code",
   "execution_count": null,
   "id": "c8d9d8e0-b6d4-4baf-ba56-3f7b415c279c",
   "metadata": {},
   "outputs": [],
   "source": []
  }
 ],
 "metadata": {
  "kernelspec": {
   "display_name": "Python 3 (ipykernel)",
   "language": "python",
   "name": "python3"
  },
  "language_info": {
   "codemirror_mode": {
    "name": "ipython",
    "version": 3
   },
   "file_extension": ".py",
   "mimetype": "text/x-python",
   "name": "python",
   "nbconvert_exporter": "python",
   "pygments_lexer": "ipython3",
   "version": "3.7.11"
  }
 },
 "nbformat": 4,
 "nbformat_minor": 5
}
