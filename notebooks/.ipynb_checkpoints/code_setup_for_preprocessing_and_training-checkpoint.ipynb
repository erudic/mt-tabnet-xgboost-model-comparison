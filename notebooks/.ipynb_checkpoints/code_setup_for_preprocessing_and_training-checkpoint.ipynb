{
 "cells": [
  {
   "cell_type": "markdown",
   "id": "17a3c2de",
   "metadata": {},
   "source": [
    "# Data split and preprocessing"
   ]
  },
  {
   "cell_type": "code",
   "execution_count": 75,
   "id": "df8a509f",
   "metadata": {},
   "outputs": [],
   "source": [
    "import pandas as pd"
   ]
  },
  {
   "cell_type": "code",
   "execution_count": 76,
   "id": "548de2b8",
   "metadata": {},
   "outputs": [],
   "source": [
    "df = pd.read_csv('../data/dataset_initial.csv')\n",
    "df['Weather_Condition_Arr'] = df['Weather_Condition_Arr'].apply(lambda x: literal_eval(x) if str(x)!='nan' else x)"
   ]
  },
  {
   "cell_type": "code",
   "execution_count": 77,
   "id": "5d7a1763",
   "metadata": {},
   "outputs": [
    {
     "data": {
      "text/html": [
       "<div>\n",
       "<style scoped>\n",
       "    .dataframe tbody tr th:only-of-type {\n",
       "        vertical-align: middle;\n",
       "    }\n",
       "\n",
       "    .dataframe tbody tr th {\n",
       "        vertical-align: top;\n",
       "    }\n",
       "\n",
       "    .dataframe thead th {\n",
       "        text-align: right;\n",
       "    }\n",
       "</style>\n",
       "<table border=\"1\" class=\"dataframe\">\n",
       "  <thead>\n",
       "    <tr style=\"text-align: right;\">\n",
       "      <th></th>\n",
       "      <th>Severity</th>\n",
       "      <th>Start_Lat</th>\n",
       "      <th>Start_Lng</th>\n",
       "      <th>End_Lat</th>\n",
       "      <th>End_Lng</th>\n",
       "      <th>Distance(mi)</th>\n",
       "      <th>Side</th>\n",
       "      <th>State</th>\n",
       "      <th>Temperature(F)</th>\n",
       "      <th>Wind_Chill(F)</th>\n",
       "      <th>...</th>\n",
       "      <th>Traffic_Calming</th>\n",
       "      <th>Traffic_Signal</th>\n",
       "      <th>Turning_Loop</th>\n",
       "      <th>Sunrise_Sunset</th>\n",
       "      <th>Civil_Twilight</th>\n",
       "      <th>Nautical_Twilight</th>\n",
       "      <th>Astronomical_Twilight</th>\n",
       "      <th>Weather_Condition_Arr</th>\n",
       "      <th>Wind_SN</th>\n",
       "      <th>Wind_EW</th>\n",
       "    </tr>\n",
       "  </thead>\n",
       "  <tbody>\n",
       "    <tr>\n",
       "      <th>0</th>\n",
       "      <td>3</td>\n",
       "      <td>40.108910</td>\n",
       "      <td>-83.092860</td>\n",
       "      <td>40.112060</td>\n",
       "      <td>-83.031870</td>\n",
       "      <td>3.230</td>\n",
       "      <td>R</td>\n",
       "      <td>OH</td>\n",
       "      <td>42.1</td>\n",
       "      <td>36.1</td>\n",
       "      <td>...</td>\n",
       "      <td>False</td>\n",
       "      <td>False</td>\n",
       "      <td>False</td>\n",
       "      <td>Night</td>\n",
       "      <td>Night</td>\n",
       "      <td>Night</td>\n",
       "      <td>Night</td>\n",
       "      <td>[Light Rain]</td>\n",
       "      <td>-0.500000</td>\n",
       "      <td>0.500000</td>\n",
       "    </tr>\n",
       "    <tr>\n",
       "      <th>1</th>\n",
       "      <td>2</td>\n",
       "      <td>39.865420</td>\n",
       "      <td>-84.062800</td>\n",
       "      <td>39.865010</td>\n",
       "      <td>-84.048730</td>\n",
       "      <td>0.747</td>\n",
       "      <td>R</td>\n",
       "      <td>OH</td>\n",
       "      <td>36.9</td>\n",
       "      <td>NaN</td>\n",
       "      <td>...</td>\n",
       "      <td>False</td>\n",
       "      <td>False</td>\n",
       "      <td>False</td>\n",
       "      <td>Night</td>\n",
       "      <td>Night</td>\n",
       "      <td>Night</td>\n",
       "      <td>Night</td>\n",
       "      <td>[Light Rain]</td>\n",
       "      <td>0.000000</td>\n",
       "      <td>0.000000</td>\n",
       "    </tr>\n",
       "    <tr>\n",
       "      <th>2</th>\n",
       "      <td>2</td>\n",
       "      <td>39.102660</td>\n",
       "      <td>-84.524680</td>\n",
       "      <td>39.102090</td>\n",
       "      <td>-84.523960</td>\n",
       "      <td>0.055</td>\n",
       "      <td>R</td>\n",
       "      <td>OH</td>\n",
       "      <td>36.0</td>\n",
       "      <td>NaN</td>\n",
       "      <td>...</td>\n",
       "      <td>False</td>\n",
       "      <td>False</td>\n",
       "      <td>False</td>\n",
       "      <td>Night</td>\n",
       "      <td>Night</td>\n",
       "      <td>Night</td>\n",
       "      <td>Day</td>\n",
       "      <td>[Overcast]</td>\n",
       "      <td>0.000000</td>\n",
       "      <td>0.000000</td>\n",
       "    </tr>\n",
       "    <tr>\n",
       "      <th>3</th>\n",
       "      <td>2</td>\n",
       "      <td>41.062130</td>\n",
       "      <td>-81.537840</td>\n",
       "      <td>41.062170</td>\n",
       "      <td>-81.535470</td>\n",
       "      <td>0.123</td>\n",
       "      <td>R</td>\n",
       "      <td>OH</td>\n",
       "      <td>39.0</td>\n",
       "      <td>NaN</td>\n",
       "      <td>...</td>\n",
       "      <td>False</td>\n",
       "      <td>False</td>\n",
       "      <td>False</td>\n",
       "      <td>Night</td>\n",
       "      <td>Night</td>\n",
       "      <td>Day</td>\n",
       "      <td>Day</td>\n",
       "      <td>[Overcast]</td>\n",
       "      <td>0.000000</td>\n",
       "      <td>0.000000</td>\n",
       "    </tr>\n",
       "    <tr>\n",
       "      <th>4</th>\n",
       "      <td>3</td>\n",
       "      <td>39.172393</td>\n",
       "      <td>-84.492792</td>\n",
       "      <td>39.170476</td>\n",
       "      <td>-84.501798</td>\n",
       "      <td>0.500</td>\n",
       "      <td>R</td>\n",
       "      <td>OH</td>\n",
       "      <td>37.0</td>\n",
       "      <td>29.8</td>\n",
       "      <td>...</td>\n",
       "      <td>False</td>\n",
       "      <td>False</td>\n",
       "      <td>False</td>\n",
       "      <td>Day</td>\n",
       "      <td>Day</td>\n",
       "      <td>Day</td>\n",
       "      <td>Day</td>\n",
       "      <td>[Light Rain]</td>\n",
       "      <td>-0.333333</td>\n",
       "      <td>0.666667</td>\n",
       "    </tr>\n",
       "    <tr>\n",
       "      <th>...</th>\n",
       "      <td>...</td>\n",
       "      <td>...</td>\n",
       "      <td>...</td>\n",
       "      <td>...</td>\n",
       "      <td>...</td>\n",
       "      <td>...</td>\n",
       "      <td>...</td>\n",
       "      <td>...</td>\n",
       "      <td>...</td>\n",
       "      <td>...</td>\n",
       "      <td>...</td>\n",
       "      <td>...</td>\n",
       "      <td>...</td>\n",
       "      <td>...</td>\n",
       "      <td>...</td>\n",
       "      <td>...</td>\n",
       "      <td>...</td>\n",
       "      <td>...</td>\n",
       "      <td>...</td>\n",
       "      <td>...</td>\n",
       "      <td>...</td>\n",
       "    </tr>\n",
       "    <tr>\n",
       "      <th>2845337</th>\n",
       "      <td>2</td>\n",
       "      <td>34.002480</td>\n",
       "      <td>-117.379360</td>\n",
       "      <td>33.998880</td>\n",
       "      <td>-117.370940</td>\n",
       "      <td>0.543</td>\n",
       "      <td>R</td>\n",
       "      <td>CA</td>\n",
       "      <td>86.0</td>\n",
       "      <td>86.0</td>\n",
       "      <td>...</td>\n",
       "      <td>False</td>\n",
       "      <td>False</td>\n",
       "      <td>False</td>\n",
       "      <td>Day</td>\n",
       "      <td>Day</td>\n",
       "      <td>Day</td>\n",
       "      <td>Day</td>\n",
       "      <td>[Fair]</td>\n",
       "      <td>0.000000</td>\n",
       "      <td>1.000000</td>\n",
       "    </tr>\n",
       "    <tr>\n",
       "      <th>2845338</th>\n",
       "      <td>2</td>\n",
       "      <td>32.766960</td>\n",
       "      <td>-117.148060</td>\n",
       "      <td>32.765550</td>\n",
       "      <td>-117.153630</td>\n",
       "      <td>0.338</td>\n",
       "      <td>R</td>\n",
       "      <td>CA</td>\n",
       "      <td>70.0</td>\n",
       "      <td>70.0</td>\n",
       "      <td>...</td>\n",
       "      <td>False</td>\n",
       "      <td>False</td>\n",
       "      <td>False</td>\n",
       "      <td>Day</td>\n",
       "      <td>Day</td>\n",
       "      <td>Day</td>\n",
       "      <td>Day</td>\n",
       "      <td>[Fair]</td>\n",
       "      <td>-0.500000</td>\n",
       "      <td>0.500000</td>\n",
       "    </tr>\n",
       "    <tr>\n",
       "      <th>2845339</th>\n",
       "      <td>2</td>\n",
       "      <td>33.775450</td>\n",
       "      <td>-117.847790</td>\n",
       "      <td>33.777400</td>\n",
       "      <td>-117.857270</td>\n",
       "      <td>0.561</td>\n",
       "      <td>R</td>\n",
       "      <td>CA</td>\n",
       "      <td>73.0</td>\n",
       "      <td>73.0</td>\n",
       "      <td>...</td>\n",
       "      <td>False</td>\n",
       "      <td>False</td>\n",
       "      <td>False</td>\n",
       "      <td>Day</td>\n",
       "      <td>Day</td>\n",
       "      <td>Day</td>\n",
       "      <td>Day</td>\n",
       "      <td>[Partly Cloudy]</td>\n",
       "      <td>-0.666667</td>\n",
       "      <td>0.333333</td>\n",
       "    </tr>\n",
       "    <tr>\n",
       "      <th>2845340</th>\n",
       "      <td>2</td>\n",
       "      <td>33.992460</td>\n",
       "      <td>-118.403020</td>\n",
       "      <td>33.983110</td>\n",
       "      <td>-118.395650</td>\n",
       "      <td>0.772</td>\n",
       "      <td>R</td>\n",
       "      <td>CA</td>\n",
       "      <td>71.0</td>\n",
       "      <td>71.0</td>\n",
       "      <td>...</td>\n",
       "      <td>False</td>\n",
       "      <td>False</td>\n",
       "      <td>False</td>\n",
       "      <td>Day</td>\n",
       "      <td>Day</td>\n",
       "      <td>Day</td>\n",
       "      <td>Day</td>\n",
       "      <td>[Fair]</td>\n",
       "      <td>-0.500000</td>\n",
       "      <td>0.500000</td>\n",
       "    </tr>\n",
       "    <tr>\n",
       "      <th>2845341</th>\n",
       "      <td>2</td>\n",
       "      <td>34.133930</td>\n",
       "      <td>-117.230920</td>\n",
       "      <td>34.137360</td>\n",
       "      <td>-117.239340</td>\n",
       "      <td>0.537</td>\n",
       "      <td>R</td>\n",
       "      <td>CA</td>\n",
       "      <td>79.0</td>\n",
       "      <td>79.0</td>\n",
       "      <td>...</td>\n",
       "      <td>False</td>\n",
       "      <td>False</td>\n",
       "      <td>False</td>\n",
       "      <td>Day</td>\n",
       "      <td>Day</td>\n",
       "      <td>Day</td>\n",
       "      <td>Day</td>\n",
       "      <td>[Fair]</td>\n",
       "      <td>-0.500000</td>\n",
       "      <td>0.500000</td>\n",
       "    </tr>\n",
       "  </tbody>\n",
       "</table>\n",
       "<p>2845342 rows × 35 columns</p>\n",
       "</div>"
      ],
      "text/plain": [
       "         Severity  Start_Lat   Start_Lng    End_Lat     End_Lng  Distance(mi)  \\\n",
       "0               3  40.108910  -83.092860  40.112060  -83.031870         3.230   \n",
       "1               2  39.865420  -84.062800  39.865010  -84.048730         0.747   \n",
       "2               2  39.102660  -84.524680  39.102090  -84.523960         0.055   \n",
       "3               2  41.062130  -81.537840  41.062170  -81.535470         0.123   \n",
       "4               3  39.172393  -84.492792  39.170476  -84.501798         0.500   \n",
       "...           ...        ...         ...        ...         ...           ...   \n",
       "2845337         2  34.002480 -117.379360  33.998880 -117.370940         0.543   \n",
       "2845338         2  32.766960 -117.148060  32.765550 -117.153630         0.338   \n",
       "2845339         2  33.775450 -117.847790  33.777400 -117.857270         0.561   \n",
       "2845340         2  33.992460 -118.403020  33.983110 -118.395650         0.772   \n",
       "2845341         2  34.133930 -117.230920  34.137360 -117.239340         0.537   \n",
       "\n",
       "        Side State  Temperature(F)  Wind_Chill(F)  ...  Traffic_Calming  \\\n",
       "0          R    OH            42.1           36.1  ...            False   \n",
       "1          R    OH            36.9            NaN  ...            False   \n",
       "2          R    OH            36.0            NaN  ...            False   \n",
       "3          R    OH            39.0            NaN  ...            False   \n",
       "4          R    OH            37.0           29.8  ...            False   \n",
       "...      ...   ...             ...            ...  ...              ...   \n",
       "2845337    R    CA            86.0           86.0  ...            False   \n",
       "2845338    R    CA            70.0           70.0  ...            False   \n",
       "2845339    R    CA            73.0           73.0  ...            False   \n",
       "2845340    R    CA            71.0           71.0  ...            False   \n",
       "2845341    R    CA            79.0           79.0  ...            False   \n",
       "\n",
       "         Traffic_Signal  Turning_Loop  Sunrise_Sunset  Civil_Twilight  \\\n",
       "0                 False         False           Night           Night   \n",
       "1                 False         False           Night           Night   \n",
       "2                 False         False           Night           Night   \n",
       "3                 False         False           Night           Night   \n",
       "4                 False         False             Day             Day   \n",
       "...                 ...           ...             ...             ...   \n",
       "2845337           False         False             Day             Day   \n",
       "2845338           False         False             Day             Day   \n",
       "2845339           False         False             Day             Day   \n",
       "2845340           False         False             Day             Day   \n",
       "2845341           False         False             Day             Day   \n",
       "\n",
       "         Nautical_Twilight  Astronomical_Twilight  Weather_Condition_Arr  \\\n",
       "0                    Night                  Night           [Light Rain]   \n",
       "1                    Night                  Night           [Light Rain]   \n",
       "2                    Night                    Day             [Overcast]   \n",
       "3                      Day                    Day             [Overcast]   \n",
       "4                      Day                    Day           [Light Rain]   \n",
       "...                    ...                    ...                    ...   \n",
       "2845337                Day                    Day                 [Fair]   \n",
       "2845338                Day                    Day                 [Fair]   \n",
       "2845339                Day                    Day        [Partly Cloudy]   \n",
       "2845340                Day                    Day                 [Fair]   \n",
       "2845341                Day                    Day                 [Fair]   \n",
       "\n",
       "          Wind_SN   Wind_EW  \n",
       "0       -0.500000  0.500000  \n",
       "1        0.000000  0.000000  \n",
       "2        0.000000  0.000000  \n",
       "3        0.000000  0.000000  \n",
       "4       -0.333333  0.666667  \n",
       "...           ...       ...  \n",
       "2845337  0.000000  1.000000  \n",
       "2845338 -0.500000  0.500000  \n",
       "2845339 -0.666667  0.333333  \n",
       "2845340 -0.500000  0.500000  \n",
       "2845341 -0.500000  0.500000  \n",
       "\n",
       "[2845342 rows x 35 columns]"
      ]
     },
     "execution_count": 77,
     "metadata": {},
     "output_type": "execute_result"
    }
   ],
   "source": [
    "df"
   ]
  },
  {
   "cell_type": "markdown",
   "id": "97224030",
   "metadata": {},
   "source": [
    "# Full dataset"
   ]
  },
  {
   "cell_type": "code",
   "execution_count": 78,
   "id": "2b5b3b1f",
   "metadata": {},
   "outputs": [],
   "source": [
    "df_full = df.copy()"
   ]
  },
  {
   "cell_type": "markdown",
   "id": "f20ab797",
   "metadata": {},
   "source": [
    "## Train, test and validation split"
   ]
  },
  {
   "cell_type": "code",
   "execution_count": 134,
   "id": "1acdb2cd",
   "metadata": {},
   "outputs": [],
   "source": [
    "from sklearn.model_selection import train_test_split\n",
    "from sklearn import preprocessing\n",
    "X, y = df_full[df_full.columns.drop('Severity')], df_full['Severity']\n",
    "\n",
    "X_train_val, X_test, y_train_val, y_test = train_test_split(X, y, test_size=0.2, random_state=33)"
   ]
  },
  {
   "cell_type": "markdown",
   "id": "74a96b9c-4ee3-40f2-8319-ef5d8e9f87b0",
   "metadata": {},
   "source": [
    "Colums of object type - categorical variables some of them with >2 classes"
   ]
  },
  {
   "cell_type": "code",
   "execution_count": 135,
   "id": "d1bb9298",
   "metadata": {},
   "outputs": [
    {
     "data": {
      "text/html": [
       "<div>\n",
       "<style scoped>\n",
       "    .dataframe tbody tr th:only-of-type {\n",
       "        vertical-align: middle;\n",
       "    }\n",
       "\n",
       "    .dataframe tbody tr th {\n",
       "        vertical-align: top;\n",
       "    }\n",
       "\n",
       "    .dataframe thead th {\n",
       "        text-align: right;\n",
       "    }\n",
       "</style>\n",
       "<table border=\"1\" class=\"dataframe\">\n",
       "  <thead>\n",
       "    <tr style=\"text-align: right;\">\n",
       "      <th></th>\n",
       "      <th>Side</th>\n",
       "      <th>State</th>\n",
       "      <th>Sunrise_Sunset</th>\n",
       "      <th>Civil_Twilight</th>\n",
       "      <th>Nautical_Twilight</th>\n",
       "      <th>Astronomical_Twilight</th>\n",
       "      <th>Weather_Condition_Arr</th>\n",
       "    </tr>\n",
       "  </thead>\n",
       "  <tbody>\n",
       "    <tr>\n",
       "      <th>2229056</th>\n",
       "      <td>R</td>\n",
       "      <td>IN</td>\n",
       "      <td>Night</td>\n",
       "      <td>Night</td>\n",
       "      <td>Day</td>\n",
       "      <td>Day</td>\n",
       "      <td>[Mostly Cloudy]</td>\n",
       "    </tr>\n",
       "    <tr>\n",
       "      <th>369902</th>\n",
       "      <td>L</td>\n",
       "      <td>ID</td>\n",
       "      <td>Day</td>\n",
       "      <td>Day</td>\n",
       "      <td>Day</td>\n",
       "      <td>Day</td>\n",
       "      <td>[Fair]</td>\n",
       "    </tr>\n",
       "    <tr>\n",
       "      <th>1740174</th>\n",
       "      <td>L</td>\n",
       "      <td>LA</td>\n",
       "      <td>Night</td>\n",
       "      <td>Night</td>\n",
       "      <td>Night</td>\n",
       "      <td>Night</td>\n",
       "      <td>[Partly Cloudy]</td>\n",
       "    </tr>\n",
       "    <tr>\n",
       "      <th>860436</th>\n",
       "      <td>R</td>\n",
       "      <td>SC</td>\n",
       "      <td>Night</td>\n",
       "      <td>Night</td>\n",
       "      <td>Night</td>\n",
       "      <td>Night</td>\n",
       "      <td>[Cloudy]</td>\n",
       "    </tr>\n",
       "    <tr>\n",
       "      <th>2222813</th>\n",
       "      <td>R</td>\n",
       "      <td>NY</td>\n",
       "      <td>Day</td>\n",
       "      <td>Day</td>\n",
       "      <td>Day</td>\n",
       "      <td>Day</td>\n",
       "      <td>[Cloudy]</td>\n",
       "    </tr>\n",
       "    <tr>\n",
       "      <th>...</th>\n",
       "      <td>...</td>\n",
       "      <td>...</td>\n",
       "      <td>...</td>\n",
       "      <td>...</td>\n",
       "      <td>...</td>\n",
       "      <td>...</td>\n",
       "      <td>...</td>\n",
       "    </tr>\n",
       "    <tr>\n",
       "      <th>2435267</th>\n",
       "      <td>R</td>\n",
       "      <td>CA</td>\n",
       "      <td>Day</td>\n",
       "      <td>Day</td>\n",
       "      <td>Day</td>\n",
       "      <td>Day</td>\n",
       "      <td>[Haze]</td>\n",
       "    </tr>\n",
       "    <tr>\n",
       "      <th>2293817</th>\n",
       "      <td>R</td>\n",
       "      <td>CA</td>\n",
       "      <td>Day</td>\n",
       "      <td>Day</td>\n",
       "      <td>Day</td>\n",
       "      <td>Day</td>\n",
       "      <td>[Mostly Cloudy]</td>\n",
       "    </tr>\n",
       "    <tr>\n",
       "      <th>1442370</th>\n",
       "      <td>R</td>\n",
       "      <td>MD</td>\n",
       "      <td>Night</td>\n",
       "      <td>Night</td>\n",
       "      <td>Night</td>\n",
       "      <td>Night</td>\n",
       "      <td>[Cloudy]</td>\n",
       "    </tr>\n",
       "    <tr>\n",
       "      <th>985479</th>\n",
       "      <td>R</td>\n",
       "      <td>MN</td>\n",
       "      <td>Day</td>\n",
       "      <td>Day</td>\n",
       "      <td>Day</td>\n",
       "      <td>Day</td>\n",
       "      <td>[Mostly Cloudy]</td>\n",
       "    </tr>\n",
       "    <tr>\n",
       "      <th>1989652</th>\n",
       "      <td>R</td>\n",
       "      <td>TX</td>\n",
       "      <td>Day</td>\n",
       "      <td>Day</td>\n",
       "      <td>Day</td>\n",
       "      <td>Day</td>\n",
       "      <td>[Light Rain]</td>\n",
       "    </tr>\n",
       "  </tbody>\n",
       "</table>\n",
       "<p>2276273 rows × 7 columns</p>\n",
       "</div>"
      ],
      "text/plain": [
       "        Side State Sunrise_Sunset Civil_Twilight Nautical_Twilight  \\\n",
       "2229056    R    IN          Night          Night               Day   \n",
       "369902     L    ID            Day            Day               Day   \n",
       "1740174    L    LA          Night          Night             Night   \n",
       "860436     R    SC          Night          Night             Night   \n",
       "2222813    R    NY            Day            Day               Day   \n",
       "...      ...   ...            ...            ...               ...   \n",
       "2435267    R    CA            Day            Day               Day   \n",
       "2293817    R    CA            Day            Day               Day   \n",
       "1442370    R    MD          Night          Night             Night   \n",
       "985479     R    MN            Day            Day               Day   \n",
       "1989652    R    TX            Day            Day               Day   \n",
       "\n",
       "        Astronomical_Twilight Weather_Condition_Arr  \n",
       "2229056                   Day       [Mostly Cloudy]  \n",
       "369902                    Day                [Fair]  \n",
       "1740174                 Night       [Partly Cloudy]  \n",
       "860436                  Night              [Cloudy]  \n",
       "2222813                   Day              [Cloudy]  \n",
       "...                       ...                   ...  \n",
       "2435267                   Day                [Haze]  \n",
       "2293817                   Day       [Mostly Cloudy]  \n",
       "1442370                 Night              [Cloudy]  \n",
       "985479                    Day       [Mostly Cloudy]  \n",
       "1989652                   Day          [Light Rain]  \n",
       "\n",
       "[2276273 rows x 7 columns]"
      ]
     },
     "execution_count": 135,
     "metadata": {},
     "output_type": "execute_result"
    }
   ],
   "source": [
    "object_cols = X_train_val.columns[X_train_val.dtypes=='object']\n",
    "objects = X_train_val[object_cols]\n",
    "objects"
   ]
  },
  {
   "cell_type": "markdown",
   "id": "ad15d3c1",
   "metadata": {},
   "source": [
    "## Weather column preprocessing"
   ]
  },
  {
   "cell_type": "markdown",
   "id": "538188c3",
   "metadata": {},
   "source": [
    "Checking weather condition with multiple conditions present in the column"
   ]
  },
  {
   "cell_type": "code",
   "execution_count": 81,
   "id": "d4cb952b",
   "metadata": {},
   "outputs": [
    {
     "data": {
      "text/plain": [
       "1729993         [Thunder, Wintry Mix]\n",
       "457645        [Sand, Dust Whirlwinds]\n",
       "2830734       [Sand, Dust Whirlwinds]\n",
       "2430583       [Sand, Dust Whirlwinds]\n",
       "2825458       [Sand, Dust Whirlwinds]\n",
       "2830733       [Sand, Dust Whirlwinds]\n",
       "1831010         [Thunder, Wintry Mix]\n",
       "1620037         [Thunder, Wintry Mix]\n",
       "1348807         [Thunder, Wintry Mix]\n",
       "1025171       [Sand, Dust Whirlwinds]\n",
       "1336303       [Sand, Dust Whirlwinds]\n",
       "1923405         [Thunder, Wintry Mix]\n",
       "526556        [Sand, Dust Whirlwinds]\n",
       "231580        [Sand, Dust Whirlwinds]\n",
       "705863          [Thunder, Wintry Mix]\n",
       "1039404       [Sand, Dust Whirlwinds]\n",
       "1150038       [Sand, Dust Whirlwinds]\n",
       "2124432    [Sand, Dust Whirls Nearby]\n",
       "1454284       [Sand, Dust Whirlwinds]\n",
       "Name: Weather_Condition_Arr, dtype: object"
      ]
     },
     "execution_count": 81,
     "metadata": {},
     "output_type": "execute_result"
    }
   ],
   "source": [
    "X_train_val[X_train_val['Weather_Condition_Arr'].map(lambda arr: len(arr), na_action='ignore')>1]['Weather_Condition_Arr']"
   ]
  },
  {
   "cell_type": "markdown",
   "id": "dc1baf70",
   "metadata": {},
   "source": [
    "Multiple weather condition will be also one hot encoded with multiple 1s on corresponding values"
   ]
  },
  {
   "cell_type": "markdown",
   "id": "6f785335-6bc8-40b3-a356-810025929254",
   "metadata": {},
   "source": [
    "Example of top 20 weather conditions"
   ]
  },
  {
   "cell_type": "code",
   "execution_count": 82,
   "id": "f20c6a09-b80c-4a6e-b5d3-f73898b91cb8",
   "metadata": {},
   "outputs": [],
   "source": [
    "from collections import Counter\n",
    "from collections import OrderedDict\n",
    "counts = X_train_val['Weather_Condition_Arr'].apply(lambda arr: Counter() if str(arr)=='nan' else Counter(arr)).sum()\n",
    "counts = OrderedDict(counts.most_common())"
   ]
  },
  {
   "cell_type": "code",
   "execution_count": 83,
   "id": "a0b8e033",
   "metadata": {},
   "outputs": [
    {
     "data": {
      "text/plain": [
       "<BarContainer object of 20 artists>"
      ]
     },
     "execution_count": 83,
     "metadata": {},
     "output_type": "execute_result"
    },
    {
     "data": {
      "application/vnd.jupyter.widget-view+json": {
       "model_id": "83a9acd93b2d40379b78ab4a3aa072a1",
       "version_major": 2,
       "version_minor": 0
      },
      "image/png": "[encoded data removed]",
      "text/html": [
       "\n",
       "            <div style=\"display: inline-block;\">\n",
       "                <div class=\"jupyter-widgets widget-label\" style=\"text-align: center;\">\n",
       "                    Figure\n",
       "                </div>\n",
       "                <img src='data:image/png;base64,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' width=640.0/>\n",
       "            </div>\n",
       "        "
      ],
      "text/plain": [
       "Canvas(toolbar=Toolbar(toolitems=[('Home', 'Reset original view', 'home', 'home'), ('Back', 'Back to previous …"
      ]
     },
     "metadata": {},
     "output_type": "display_data"
    }
   ],
   "source": [
    "%matplotlib widget\n",
    "import matplotlib.pyplot as plt\n",
    "top_keys = list(counts.keys())[:20]\n",
    "top_values = list(counts.values())[:20]\n",
    "plt.barh(top_keys,top_values)"
   ]
  },
  {
   "cell_type": "markdown",
   "id": "9ab35774-dbbc-422e-b263-61d129ad8999",
   "metadata": {},
   "source": [
    "Creting custom data transformer/encoder"
   ]
  },
  {
   "cell_type": "code",
   "execution_count": 187,
   "id": "29fbffc7-da27-46b7-9c30-eb40559114c0",
   "metadata": {},
   "outputs": [],
   "source": [
    "from sklearn.base import BaseEstimator, TransformerMixin\n",
    "\n",
    "class WeatherConditionTransformator(BaseEstimator, TransformerMixin):\n",
    "    def fit(self, X):\n",
    "        counts = X['Weather_Condition_Arr'].apply(lambda arr: Counter() if str(arr)=='nan' else Counter(arr)).sum()\n",
    "        counts = OrderedDict(counts.most_common())\n",
    "        self.top_weathers = list(counts.keys())[:10]\n",
    "        return self\n",
    "    \n",
    "    def _weather_condition_mapper(self,weather_condition_name, weather_condition_arr):\n",
    "        if str(weather_condition_arr)=='nan':\n",
    "            return 'False'\n",
    "        if weather_condition_name =='Weather_Other':\n",
    "            for w in weather_condition_arr:\n",
    "                if w not in self.top_weathers:\n",
    "                    return 'True'\n",
    "        if weather_condition_name in weather_condition_arr:\n",
    "            if weather_condition_name in self.top_weathers:\n",
    "                return 'True'\n",
    "        return 'False'            \n",
    "            \n",
    "    def transform(self, X, y=None):\n",
    "        for w in self.top_weathers + ['Weather_Other']:\n",
    "            mapper = lambda w_arr: self._weather_condition_mapper(w,w_arr)\n",
    "            X[w] = X['Weather_Condition_Arr'].map(mapper)\n",
    "        X.drop('Weather_Condition_Arr',axis='columns',inplace=True)\n",
    "        return X"
   ]
  },
  {
   "cell_type": "markdown",
   "id": "9907732a-bd40-400a-a3a0-b56ee41598ab",
   "metadata": {},
   "source": [
    "## Sunrise sunsets and twilights"
   ]
  },
  {
   "cell_type": "code",
   "execution_count": 65,
   "id": "bbc655aa-7ef6-44b0-b361-7218e4189b0c",
   "metadata": {},
   "outputs": [],
   "source": [
    "columns = ['Sunrise_Sunset','Civil_Twilight','Nautical_Twilight','Astronomical_Twilight']"
   ]
  },
  {
   "cell_type": "code",
   "execution_count": 76,
   "id": "1641f942-632c-44eb-9bdf-6ad0e74623ca",
   "metadata": {},
   "outputs": [],
   "source": [
    "sunrise_differs = X_train['Sunrise_Sunset'].ne(X_train['Civil_Twilight']) | X_train['Sunrise_Sunset'].ne(X_train['Nautical_Twilight']) | X_train['Sunrise_Sunset'].ne(X_train['Astronomical_Twilight'])\n",
    "civil_differs = X_train['Civil_Twilight'].ne(X_train['Nautical_Twilight']) | X_train['Civil_Twilight'].ne(X_train['Astronomical_Twilight'])\n",
    "nautical_differs = X_train['Nautical_Twilight'].ne(X_train['Astronomical_Twilight'])\n",
    "any_differs = sunrise_differs | civil_differs | nautical_differs"
   ]
  },
  {
   "cell_type": "code",
   "execution_count": 77,
   "id": "188a1350-d174-457b-9b77-a193061e6658",
   "metadata": {},
   "outputs": [
    {
     "data": {
      "text/html": [
       "<div>\n",
       "<style scoped>\n",
       "    .dataframe tbody tr th:only-of-type {\n",
       "        vertical-align: middle;\n",
       "    }\n",
       "\n",
       "    .dataframe tbody tr th {\n",
       "        vertical-align: top;\n",
       "    }\n",
       "\n",
       "    .dataframe thead th {\n",
       "        text-align: right;\n",
       "    }\n",
       "</style>\n",
       "<table border=\"1\" class=\"dataframe\">\n",
       "  <thead>\n",
       "    <tr style=\"text-align: right;\">\n",
       "      <th></th>\n",
       "      <th>Sunrise_Sunset</th>\n",
       "      <th>Civil_Twilight</th>\n",
       "      <th>Nautical_Twilight</th>\n",
       "      <th>Astronomical_Twilight</th>\n",
       "    </tr>\n",
       "  </thead>\n",
       "  <tbody>\n",
       "    <tr>\n",
       "      <th>2683421</th>\n",
       "      <td>Night</td>\n",
       "      <td>Night</td>\n",
       "      <td>Day</td>\n",
       "      <td>Day</td>\n",
       "    </tr>\n",
       "    <tr>\n",
       "      <th>85782</th>\n",
       "      <td>Night</td>\n",
       "      <td>Night</td>\n",
       "      <td>Night</td>\n",
       "      <td>Day</td>\n",
       "    </tr>\n",
       "    <tr>\n",
       "      <th>93373</th>\n",
       "      <td>Night</td>\n",
       "      <td>Night</td>\n",
       "      <td>Night</td>\n",
       "      <td>Day</td>\n",
       "    </tr>\n",
       "    <tr>\n",
       "      <th>431023</th>\n",
       "      <td>Night</td>\n",
       "      <td>Day</td>\n",
       "      <td>Day</td>\n",
       "      <td>Day</td>\n",
       "    </tr>\n",
       "    <tr>\n",
       "      <th>182567</th>\n",
       "      <td>Night</td>\n",
       "      <td>Night</td>\n",
       "      <td>Night</td>\n",
       "      <td>Day</td>\n",
       "    </tr>\n",
       "    <tr>\n",
       "      <th>...</th>\n",
       "      <td>...</td>\n",
       "      <td>...</td>\n",
       "      <td>...</td>\n",
       "      <td>...</td>\n",
       "    </tr>\n",
       "    <tr>\n",
       "      <th>27825</th>\n",
       "      <td>Night</td>\n",
       "      <td>Night</td>\n",
       "      <td>Night</td>\n",
       "      <td>Day</td>\n",
       "    </tr>\n",
       "    <tr>\n",
       "      <th>279302</th>\n",
       "      <td>Night</td>\n",
       "      <td>Day</td>\n",
       "      <td>Day</td>\n",
       "      <td>Day</td>\n",
       "    </tr>\n",
       "    <tr>\n",
       "      <th>1265809</th>\n",
       "      <td>Night</td>\n",
       "      <td>Night</td>\n",
       "      <td>Day</td>\n",
       "      <td>Day</td>\n",
       "    </tr>\n",
       "    <tr>\n",
       "      <th>580445</th>\n",
       "      <td>Night</td>\n",
       "      <td>Night</td>\n",
       "      <td>Day</td>\n",
       "      <td>Day</td>\n",
       "    </tr>\n",
       "    <tr>\n",
       "      <th>937612</th>\n",
       "      <td>Night</td>\n",
       "      <td>Day</td>\n",
       "      <td>Day</td>\n",
       "      <td>Day</td>\n",
       "    </tr>\n",
       "  </tbody>\n",
       "</table>\n",
       "<p>173605 rows × 4 columns</p>\n",
       "</div>"
      ],
      "text/plain": [
       "        Sunrise_Sunset Civil_Twilight Nautical_Twilight Astronomical_Twilight\n",
       "2683421          Night          Night               Day                   Day\n",
       "85782            Night          Night             Night                   Day\n",
       "93373            Night          Night             Night                   Day\n",
       "431023           Night            Day               Day                   Day\n",
       "182567           Night          Night             Night                   Day\n",
       "...                ...            ...               ...                   ...\n",
       "27825            Night          Night             Night                   Day\n",
       "279302           Night            Day               Day                   Day\n",
       "1265809          Night          Night               Day                   Day\n",
       "580445           Night          Night               Day                   Day\n",
       "937612           Night            Day               Day                   Day\n",
       "\n",
       "[173605 rows x 4 columns]"
      ]
     },
     "execution_count": 77,
     "metadata": {},
     "output_type": "execute_result"
    }
   ],
   "source": [
    "X_train[any_differs][columns]"
   ]
  },
  {
   "cell_type": "markdown",
   "id": "41d6c89f-d661-4b57-96e1-4afc0681127b",
   "metadata": {},
   "source": [
    "Leaving all night day features because they differ in a lot of rows."
   ]
  },
  {
   "cell_type": "markdown",
   "id": "25a1019c-92ce-401f-b2f8-7ef439aa3809",
   "metadata": {},
   "source": [
    "## States preprocessing"
   ]
  },
  {
   "cell_type": "code",
   "execution_count": 201,
   "id": "866e1eb6-f86e-481a-99d2-10a3fa6b6b90",
   "metadata": {},
   "outputs": [
    {
     "data": {
      "text/plain": [
       "<AxesSubplot:>"
      ]
     },
     "execution_count": 201,
     "metadata": {},
     "output_type": "execute_result"
    },
    {
     "name": "stderr",
     "output_type": "stream",
     "text": [
      "2022-06-17 23:25:40,970 - WARNING  - findfont: Font family ['Heiti TC'] not found. Falling back to DejaVu Sans.\n"
     ]
    },
    {
     "data": {
      "application/vnd.jupyter.widget-view+json": {
       "model_id": "956f14f1a8e843408da5d87ffd10149c",
       "version_major": 2,
       "version_minor": 0
      },
      "image/png": "[encoded data removed]",
      "text/html": [
       "\n",
       "            <div style=\"display: inline-block;\">\n",
       "                <div class=\"jupyter-widgets widget-label\" style=\"text-align: center;\">\n",
       "                    Figure\n",
       "                </div>\n",
       "                <img src='data:image/png;base64,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' width=640.0/>\n",
       "            </div>\n",
       "        "
      ],
      "text/plain": [
       "Canvas(toolbar=Toolbar(toolitems=[('Home', 'Reset original view', 'home', 'home'), ('Back', 'Back to previous …"
      ]
     },
     "metadata": {},
     "output_type": "display_data"
    }
   ],
   "source": [
    "%matplotlib widget\n",
    "X_train['State'].value_counts().plot(kind='barh')"
   ]
  },
  {
   "cell_type": "code",
   "execution_count": 106,
   "id": "45fb9556-8744-4d6d-937c-794445dae74f",
   "metadata": {},
   "outputs": [],
   "source": [
    "class StateTranformator(BaseEstimator,TransformerMixin):\n",
    "    def fit(self,X):\n",
    "        self.top_states = X['State'].value_counts()[:10].index\n",
    "        return self\n",
    "        \n",
    "    def _map_state(self,state):\n",
    "        if state in self.top_states:\n",
    "            return state\n",
    "        else:\n",
    "            return 'Other'\n",
    "    \n",
    "    def transform(self,X):\n",
    "        X['State']=X['State'].map(self._map_state)\n",
    "        return X\n"
   ]
  },
  {
   "cell_type": "markdown",
   "id": "9f625e5c-c275-4e61-8939-492fd6f33d9d",
   "metadata": {
    "tags": []
   },
   "source": [
    "## Final preprocessor"
   ]
  },
  {
   "cell_type": "markdown",
   "id": "749bb823-f101-4518-a25a-ba9b742a0a51",
   "metadata": {},
   "source": [
    "Preprocessing composes of weather preprocessing and state preprocessing"
   ]
  },
  {
   "cell_type": "code",
   "execution_count": 190,
   "id": "0ea58454-5af8-4f27-b2b9-2395a36050ed",
   "metadata": {},
   "outputs": [],
   "source": [
    "class Preprocessor(TransformerMixin):\n",
    "    def __init__(self):\n",
    "        self.wct = WeatherConditionTransformator()\n",
    "        self.st = StateTranformator()\n",
    "        \n",
    "    def fit(self, X):\n",
    "        self.wct.fit(X)\n",
    "        self.st.fit(X)\n",
    "        return self\n",
    "        \n",
    "    def transform(self,X):\n",
    "        X = self.wct.transform(X)\n",
    "        X = self.st.transform(X)\n",
    "        return X\n",
    "    \n",
    "    def get_weather_columns(self):\n",
    "        return self.wct.top_weathers + ['Weather_Other']"
   ]
  },
  {
   "cell_type": "code",
   "execution_count": 200,
   "id": "3580aa1c-7422-40eb-81ec-7febe6b3ad51",
   "metadata": {},
   "outputs": [
    {
     "name": "stderr",
     "output_type": "stream",
     "text": [
      "/home/eugenrudic/PycharmProjects/mt-tabnet-xgboost-model-comparison/.venv/lib/python3.10/site-packages/dtale/views.py:725: FutureWarning:\n",
      "\n",
      "['Sunrise_Sunset', 'Civil_Twilight', 'Nautical_Twilight', 'Astronomical_Twilight'] did not aggregate successfully. If any error is raised this will raise in a future version of pandas. Drop these columns/ops to avoid this warning.\n",
      "\n"
     ]
    },
    {
     "data": {
      "text/html": [
       "\n",
       "        <iframe\n",
       "            width=\"100%\"\n",
       "            height=\"475\"\n",
       "            src=\"http://gendos:40000/dtale/iframe/10\"\n",
       "            frameborder=\"0\"\n",
       "            allowfullscreen\n",
       "            \n",
       "        ></iframe>\n",
       "        "
      ],
      "text/plain": [
       "<IPython.lib.display.IFrame at 0x7fb10c3607f0>"
      ]
     },
     "metadata": {},
     "output_type": "display_data"
    },
    {
     "data": {
      "text/plain": []
     },
     "execution_count": 200,
     "metadata": {},
     "output_type": "execute_result"
    }
   ],
   "source": [
    "import dtale\n",
    "\n",
    "X_train_sample = X_train_val.sample(100000).copy()\n",
    "\n",
    "p = Preprocessor()\n",
    "\n",
    "X = p.fit_transform(X_train_sample)\n",
    "dtale.show(X)"
   ]
  },
  {
   "cell_type": "markdown",
   "id": "00c09fc3-735b-49f7-a9e4-3f2a8481ad36",
   "metadata": {},
   "source": [
    "## Encoding"
   ]
  },
  {
   "cell_type": "code",
   "execution_count": 195,
   "id": "28ccfb0e-52d0-4f07-b575-426bcc0ecb37",
   "metadata": {},
   "outputs": [],
   "source": [
    "\n",
    "class Encoder(TransformerMixin):\n",
    "    def __init__(self,categorical_columns):\n",
    "        self.categorical_columns=categorical_columns\n",
    "    \n",
    "    def fit(self,X):\n",
    "        return self\n",
    "    \n",
    "    def transform(self,X):\n",
    "        for column in self.categorical_columns:\n",
    "            tempdf = pd.get_dummies(X[column], prefix=column,drop_first=True)\n",
    "            X = pd.merge(\n",
    "                left=X,\n",
    "                right=tempdf,\n",
    "                left_index=True,\n",
    "                right_index=True,\n",
    "            )\n",
    "            X = X.drop(columns=column)\n",
    "        return X"
   ]
  },
  {
   "cell_type": "code",
   "execution_count": 196,
   "id": "a5dd71b3-1453-47ff-aa98-8231b1335ca3",
   "metadata": {},
   "outputs": [],
   "source": [
    "categorical_variables = ['Side', 'State', 'Amenity','Bump','Crossing',\n",
    "                         'Give_Way', 'Junction','No_Exit',\n",
    "                         'Railway','Roundabout','Station','Stop',\n",
    "                         'Traffic_Calming','Traffic_Signal','Turning_Loop',\n",
    "                         'Sunrise_Sunset','Civil_Twilight','Nautical_Twilight',\n",
    "                         'Astronomical_Twilight']"
   ]
  },
  {
   "cell_type": "code",
   "execution_count": 199,
   "id": "7ac21813-5da9-4ba1-a6a1-1635e53dd488",
   "metadata": {},
   "outputs": [
    {
     "data": {
      "text/html": [
       "\n",
       "        <iframe\n",
       "            width=\"100%\"\n",
       "            height=\"475\"\n",
       "            src=\"http://gendos:40000/dtale/iframe/9\"\n",
       "            frameborder=\"0\"\n",
       "            allowfullscreen\n",
       "            \n",
       "        ></iframe>\n",
       "        "
      ],
      "text/plain": [
       "<IPython.lib.display.IFrame at 0x7fb10b5d8760>"
      ]
     },
     "metadata": {},
     "output_type": "display_data"
    },
    {
     "data": {
      "text/plain": []
     },
     "execution_count": 199,
     "metadata": {},
     "output_type": "execute_result"
    }
   ],
   "source": [
    "X_train_sample = X_train_val.sample(100000).copy()\n",
    "p = Preprocessor()\n",
    "X = p.fit_transform(X_train_sample)\n",
    "enc = Encoder(categorical_variables + p.get_weather_columns())\n",
    "dtale.show(enc.fit_transform(X))"
   ]
  },
  {
   "cell_type": "markdown",
   "id": "7553f361-0400-48bc-98da-aae11a83472f",
   "metadata": {},
   "source": [
    "## NA values"
   ]
  },
  {
   "cell_type": "code",
   "execution_count": 94,
   "id": "7c8dc1ff-ad12-485c-8834-11f520b94605",
   "metadata": {},
   "outputs": [
    {
     "data": {
      "text/plain": [
       "Start_Lat                     0\n",
       "Start_Lng                     0\n",
       "End_Lat                       0\n",
       "End_Lng                       0\n",
       "Distance(mi)                  0\n",
       "Side                          0\n",
       "State                         0\n",
       "Temperature(F)            32230\n",
       "Wind_Chill(F)            218963\n",
       "Humidity(%)               33998\n",
       "Pressure(in)              27581\n",
       "Visibility(mi)            32841\n",
       "Wind_Speed(mph)           73626\n",
       "Precipitation(in)        256280\n",
       "Weather_Condition         32920\n",
       "Amenity                       0\n",
       "Bump                          0\n",
       "Crossing                      0\n",
       "Give_Way                      0\n",
       "Junction                      0\n",
       "No_Exit                       0\n",
       "Railway                       0\n",
       "Roundabout                    0\n",
       "Station                       0\n",
       "Stop                          0\n",
       "Traffic_Calming               0\n",
       "Traffic_Signal                0\n",
       "Turning_Loop                  0\n",
       "Sunrise_Sunset             1304\n",
       "Civil_Twilight             1304\n",
       "Nautical_Twilight          1304\n",
       "Astronomical_Twilight      1304\n",
       "Wind_SN                   34346\n",
       "Wind_EW                   34346\n",
       "dtype: int64"
      ]
     },
     "execution_count": 94,
     "metadata": {},
     "output_type": "execute_result"
    }
   ],
   "source": [
    "X_train.isna().sum()"
   ]
  },
  {
   "cell_type": "code",
   "execution_count": 107,
   "id": "5faeaf13-cecc-4887-be62-86fc01522dc1",
   "metadata": {},
   "outputs": [],
   "source": [
    "from sklearn.model_selection import KFold\n",
    "\n",
    "kf = KFold(n_splits=10)\n",
    "for train_index, valid_index in kf.split(X_train_val):\n",
    "     X_train, X_valid, Y_train, Y_valid = split_using_index(train_index,valid_index,X_train_val,y_train_val)"
   ]
  },
  {
   "cell_type": "code",
   "execution_count": 2,
   "id": "59e8b939-63da-405e-b755-5522bb1f3248",
   "metadata": {},
   "outputs": [],
   "source": [
    "class BaseTrainer():\n",
    "    def __init__(X_train_val,y_train_val,cat_vars,reg_vars,k):\n",
    "        self.X_train_val=X_train_val\n",
    "        self.kf = kFold(n_splits=k)\n",
    "        \n",
    "    def split_using_index(train_index,valid_index,X,y):\n",
    "        X_train = X.iloc[train_index].copy()\n",
    "        X_valid = X.iloc[valid_index].copy()\n",
    "        Y_train = y.iloc[train_index].copy()\n",
    "        Y_valid = y.iloc[valid_index].copy()\n",
    "        return X_train, X_valid, Y_train, Y_valid\n",
    "\n",
    "    def kfold_validate(params,test=False):\n",
    "        for train_index, valid_index in self.kf.split(self,X_train_val):\n",
    "            X_train, X_valid, Y_train, Y_valid = split_using_index(train_index,valid_index,X_train_val,y_train_val)\n",
    "            X_train, X_valid, Y_train, Y_valid = self._preprocess_and_encode(X_train,X_valid)\n",
    "            if test:\n",
    "                yield X_train, X_valid, Y_train, Y_valid\n",
    "            else: \n",
    "                trained_model = self._train_model(X_train,Y_train)\n",
    "                validation_m = self.validate_model(trained_model,X_valid,Y_valid)\n",
    "                \n",
    "\n",
    "    def _train_model(self):\n",
    "        raise NotImplementedException\n",
    "    \n",
    "    def _validate_model(self,model):\n",
    "        raise NotImplementedException\n",
    "        \n",
    "    def _preprocess_and_encode(self,X_train, X_valid):\n",
    "        preproc = Preprocessor()\n",
    "        X_train = preproc.fit_transform(X_train)\n",
    "        X_valid = preproc.transform(X_train)\n",
    "        encoder = Encoder(cat_vars+preproc.get_weather_columns())\n",
    "        X_train = encoder.fit_transform(X_train)\n",
    "        X_valid = encoder.fit_transform(X_valid)\n",
    "        return X_train,X_valid\n",
    "\n",
    "        "
   ]
  },
  {
   "cell_type": "code",
   "execution_count": null,
   "id": "59596a01-a35e-4640-81f8-b01521cadede",
   "metadata": {},
   "outputs": [],
   "source": [
    "categorical_variables = ['Side', 'State', 'Amenity','Bump','Crossing',\n",
    "                         'Give_Way', 'Junction','No_Exit',\n",
    "                         'Railway','Roundabout','Station','Stop',\n",
    "                         'Traffic_Calming','Traffic_Signal','Turning_Loop',\n",
    "                         'Sunrise_Sunset','Civil_Twilight','Nautical_Twilight',\n",
    "                         'Astronomical_Twilight','Fair', 'Mostly Cloudy','Cloudy',\n",
    "                         'Partly Cloudy','Clear','Light Rain','Overcast',\n",
    "                         'Light Snow','Scattered Clouds', 'Fog','Other']"
   ]
  },
  {
   "cell_type": "code",
   "execution_count": 108,
   "id": "5b5a4649-b1db-45a3-9ec8-4714889eae77",
   "metadata": {},
   "outputs": [],
   "source": [
    "X_train, X_valid = Preprocessor.preprocess(X_train,X_valid)\n",
    "X_train"
   ]
  }
 ],
 "metadata": {
  "kernelspec": {
   "display_name": "Python 3 (ipykernel)",
   "language": "python",
   "name": "python3"
  },
  "language_info": {
   "codemirror_mode": {
    "name": "ipython",
    "version": 3
   },
   "file_extension": ".py",
   "mimetype": "text/x-python",
   "name": "python",
   "nbconvert_exporter": "python",
   "pygments_lexer": "ipython3",
   "version": "3.10.4"
  }
 },
 "nbformat": 4,
 "nbformat_minor": 5
}
