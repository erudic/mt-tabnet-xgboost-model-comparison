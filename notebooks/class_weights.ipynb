{
 "cells": [
  {
   "cell_type": "code",
   "execution_count": 7,
   "id": "7b954837",
   "metadata": {},
   "outputs": [],
   "source": [
    "# Large data"
   ]
  },
  {
   "cell_type": "code",
   "execution_count": 1,
   "id": "8998c6b4",
   "metadata": {},
   "outputs": [
    {
     "name": "stdout",
     "output_type": "stream",
     "text": [
      "/home/eugenrudic/PycharmProjects/mt-tabnet-xgboost-model-comparison\n"
     ]
    }
   ],
   "source": [
    "# change dir if needed\n",
    "%cd /home/eugenrudic/PycharmProjects/mt-tabnet-xgboost-model-comparison"
   ]
  },
  {
   "cell_type": "code",
   "execution_count": 14,
   "id": "a287a3d0",
   "metadata": {},
   "outputs": [],
   "source": [
    "from sklearn.utils import compute_class_weight\n",
    "from model_trainer.data import data_loader\n",
    "import numpy as np"
   ]
  },
  {
   "cell_type": "code",
   "execution_count": 15,
   "id": "0fa58e4e",
   "metadata": {},
   "outputs": [],
   "source": [
    "X_train_val, y_train_val = data_loader.load('large')"
   ]
  },
  {
   "cell_type": "code",
   "execution_count": 16,
   "id": "3de9ec89",
   "metadata": {},
   "outputs": [],
   "source": [
    "y_train_val = y_train_val-1\n",
    "classes = y_train_val.unique()\n",
    "classes.sort()\n",
    "weights = compute_class_weight(class_weight='balanced',y=y_train_val,classes = classes)"
   ]
  },
  {
   "cell_type": "code",
   "execution_count": 17,
   "id": "c34a1606",
   "metadata": {},
   "outputs": [
    {
     "data": {
      "text/plain": [
       "array([27.30260759,  0.28082831,  4.58615333,  5.422073  ])"
      ]
     },
     "execution_count": 17,
     "metadata": {},
     "output_type": "execute_result"
    }
   ],
   "source": [
    "weights"
   ]
  },
  {
   "cell_type": "code",
   "execution_count": 21,
   "id": "3b5e30aa",
   "metadata": {},
   "outputs": [
    {
     "name": "stdout",
     "output_type": "stream",
     "text": [
      "Rounded weights: [27.3, 0.3, 4.6, 5.4]\n"
     ]
    }
   ],
   "source": [
    "rounded_weights = [27.3,0.3,4.6,5.4]\n",
    "print(f\"Rounded weights: {rounded_weights}\")"
   ]
  },
  {
   "cell_type": "code",
   "execution_count": 5,
   "id": "addc28b2",
   "metadata": {},
   "outputs": [
    {
     "data": {
      "text/plain": [
       "569068.25"
      ]
     },
     "execution_count": 5,
     "metadata": {},
     "output_type": "execute_result"
    }
   ],
   "source": [
    "(len(X_train_val)/0.8)*0.2"
   ]
  },
  {
   "cell_type": "code",
   "execution_count": 19,
   "id": "1b059004",
   "metadata": {},
   "outputs": [
    {
     "data": {
      "text/plain": [
       "1    2026392\n",
       "2     124084\n",
       "3     104954\n",
       "0      20843\n",
       "Name: Severity, dtype: int64"
      ]
     },
     "execution_count": 19,
     "metadata": {},
     "output_type": "execute_result"
    }
   ],
   "source": [
    "y_train_val.value_counts()"
   ]
  },
  {
   "cell_type": "code",
   "execution_count": 2,
   "id": "da7a13ce",
   "metadata": {},
   "outputs": [],
   "source": [
    "from tuning_config import spaces, base_class_weights_large"
   ]
  },
  {
   "cell_type": "code",
   "execution_count": 3,
   "id": "6bbf321c",
   "metadata": {},
   "outputs": [],
   "source": [
    "cw_modifier = 1.5\n",
    "class_weights = base_class_weights_large.copy()\n",
    "class_weights[1]=class_weights[1]*cw_modifier"
   ]
  },
  {
   "cell_type": "code",
   "execution_count": 4,
   "id": "892be8ed",
   "metadata": {},
   "outputs": [
    {
     "data": {
      "text/plain": [
       "[27.3, 0.44999999999999996, 4.6, 5.4]"
      ]
     },
     "execution_count": 4,
     "metadata": {},
     "output_type": "execute_result"
    }
   ],
   "source": [
    "class_weights"
   ]
  },
  {
   "cell_type": "code",
   "execution_count": null,
   "id": "1ca1072e",
   "metadata": {},
   "outputs": [],
   "source": []
  }
 ],
 "metadata": {
  "kernelspec": {
   "display_name": "Python 3 (ipykernel)",
   "language": "python",
   "name": "python3"
  },
  "language_info": {
   "codemirror_mode": {
    "name": "ipython",
    "version": 3
   },
   "file_extension": ".py",
   "mimetype": "text/x-python",
   "name": "python",
   "nbconvert_exporter": "python",
   "pygments_lexer": "ipython3",
   "version": "3.10.4"
  },
  "vscode": {
   "interpreter": {
    "hash": "a8f80ce251b5e66e90e32002e7d611cafb9a3bfa26f378ae40fbd7e3ebc1d92b"
   }
  }
 },
 "nbformat": 4,
 "nbformat_minor": 5
}
