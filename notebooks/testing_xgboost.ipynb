{
 "cells": [
  {
   "cell_type": "code",
   "execution_count": 1,
   "id": "65085d6d-0f28-4a86-8f95-a8a25d49b79b",
   "metadata": {},
   "outputs": [
    {
     "name": "stdout",
     "output_type": "stream",
     "text": [
      "/notebooks/mt-tabnet-xgboost-model-comparison\n"
     ]
    }
   ],
   "source": [
    "%cd ../"
   ]
  },
  {
   "cell_type": "code",
   "execution_count": 4,
   "id": "dc8547c2-e0cc-4113-896f-59bc6fd1afa3",
   "metadata": {},
   "outputs": [],
   "source": [
    "import argparse\n",
    "from functools import partial\n",
    "import json\n",
    "import os\n",
    "import pickle\n",
    "from model_trainer.xgboost.xgboost_trainer import XGBoostTrainer\n",
    "from model_trainer.data.process_only_data_box import ProccessOnlyDataBox\n",
    "from model_trainer.data import data_loader\n",
    "from tuning_config import spaces, base_class_weights_large\n",
    "import data_config\n",
    "from hyperopt import space_eval\n",
    "import numpy as np\n",
    "from xgboost.callback import EarlyStopping\n",
    "# TODO: import this\n",
    "from sklearn.metrics import accuracy_score, matthews_corrcoef, f1_score, confusion_matrix\n",
    "import pandas as pd\n",
    "\n",
    "def process_params(params):\n",
    "    cw_modifier = params.pop('cw_modifier')\n",
    "    class_weights = base_class_weights_large.copy()\n",
    "    class_weights[1] = class_weights[1]*cw_modifier\n",
    "    class_weights = {index: value for index, value in enumerate(class_weights)}\n",
    "    return params, class_weights\n"
   ]
  },
  {
   "cell_type": "code",
   "execution_count": 5,
   "id": "267384aa-25d1-447b-8f07-e485d9e8896d",
   "metadata": {},
   "outputs": [
    {
     "name": "stdout",
     "output_type": "stream",
     "text": [
      "Processing data\n",
      "Loading trial from path: trials/xgboost-small.p\n",
      "[0]\tvalidation_0-mlogloss:1.25505\tvalidation_1-mlogloss:1.26526\n",
      "[1]\tvalidation_0-mlogloss:1.15374\tvalidation_1-mlogloss:1.17273\n",
      "[2]\tvalidation_0-mlogloss:1.07113\tvalidation_1-mlogloss:1.09805\n",
      "[3]\tvalidation_0-mlogloss:1.00424\tvalidation_1-mlogloss:1.03814\n",
      "[4]\tvalidation_0-mlogloss:0.94728\tvalidation_1-mlogloss:0.98928\n"
     ]
    }
   ],
   "source": [
    "min_delta=1e-3\n",
    "data_size=\"small\"\n",
    "base_data_path=\"data\"\n",
    "info_output_path=\"info-test\"\n",
    "early_stop_rounds=2\n",
    "\n",
    "X_train, Y_train = data_loader.load(\n",
    "    data_size, base_data_path, 'train_val')\n",
    "X_test, Y_test = data_loader.load(\n",
    "    data_size, base_data_path, 'test'\n",
    ")\n",
    "\n",
    "os.makedirs(info_output_path,exist_ok=True) # creating info output dir\n",
    "\n",
    "print(\"Processing data\")\n",
    "po_db = ProccessOnlyDataBox(\n",
    "    X_train, Y_train, X_test, Y_test, data_config.categorical_variables)\n",
    "X_train, Y_train, X_test, Y_test = next(po_db.get_processed_data())\n",
    "\n",
    "trials_in_path = f\"trials/xgboost-{data_size}.p\"\n",
    "print(f\"Loading trial from path: {trials_in_path}\")\n",
    "with open(trials_in_path, 'rb') as in_file:\n",
    "    trials = pickle.load(in_file)\n",
    "\n",
    "space = spaces['xgboost']\n",
    "best_hyperparams = space_eval(space, trials.argmin)\n",
    "best_hyperparams['n_estimators']=5\n",
    "\n",
    "model_params, class_weights = process_params(best_hyperparams)\n",
    "# reinitialize callbacks\n",
    "callbacks = [\n",
    "    EarlyStopping(rounds=early_stop_rounds,\n",
    "                save_best=True, min_delta=min_delta)\n",
    "]\n",
    "\n",
    "xt = XGBoostTrainer(model_params, class_weights, callbacks)\n",
    "model, metric = xt.train_and_validate(\n",
    "    X_train, Y_train, X_test, Y_test, verbosity=1)\n"
   ]
  },
  {
   "cell_type": "code",
   "execution_count": 9,
   "id": "04376418-1d61-4e5e-b39c-4115e7ea817b",
   "metadata": {},
   "outputs": [
    {
     "name": "stdout",
     "output_type": "stream",
     "text": [
      "[0.01822665 0.01944143 0.01408613 0.01897242 0.08385193 0.00527491\n",
      " 0.0536919  0.00551897 0.00996188 0.00582987 0.00455864 0.07889622\n",
      " 0.0055125  0.00739548 0.02938766 0.12292625 0.0394145  0.01249719\n",
      " 0.00558608 0.01657898 0.13931744 0.01933381 0.01630985 0.08851612\n",
      " 0.01753619 0.00407501 0.00986527 0.018304   0.00353602 0.00827515\n",
      " 0.         0.00744774 0.         0.00352645 0.00452249 0.\n",
      " 0.01170093 0.00583692 0.00758948 0.01176694 0.01033749 0.00772074\n",
      " 0.00463861 0.00866617 0.00103731 0.00494321 0.00573031 0.00368649\n",
      " 0.00811127 0.00318009 0.00246109 0.00441776]\n",
      "['Start_Lat' 'Start_Lng' 'End_Lat' 'End_Lng' 'Distance(mi)'\n",
      " 'Temperature(F)' 'Wind_Chill(F)' 'Humidity(%)' 'Pressure(in)'\n",
      " 'Visibility(mi)' 'Wind_Speed(mph)' 'Precipitation(in)' 'Wind_SN'\n",
      " 'Wind_EW' 'Side_R' 'State_FL' 'State_MN' 'State_NC' 'State_NY' 'State_OR'\n",
      " 'State_Other' 'State_PA' 'State_SC' 'State_TX' 'State_VA' 'Amenity_True'\n",
      " 'Bump_True' 'Crossing_True' 'Give_Way_True' 'Junction_True'\n",
      " 'No_Exit_True' 'Railway_True' 'Roundabout_True' 'Station_True'\n",
      " 'Stop_True' 'Traffic_Calming_True' 'Traffic_Signal_True'\n",
      " 'Sunrise_Sunset_Night' 'Civil_Twilight_Night' 'Nautical_Twilight_Night'\n",
      " 'Astronomical_Twilight_Night' 'Clear' 'Cloudy' 'Fair' 'Fog' 'Light Rain'\n",
      " 'Light Snow' 'Mostly Cloudy' 'Overcast' 'Partly Cloudy'\n",
      " 'Scattered Clouds' 'Weather_Other']\n"
     ]
    }
   ],
   "source": [
    "print(model.feature_importances_)\n",
    "print(model.feature_names_in_)"
   ]
  },
  {
   "cell_type": "code",
   "execution_count": 6,
   "id": "79a8d40e-1e6f-48d1-8323-ba008195ce60",
   "metadata": {},
   "outputs": [
    {
     "name": "stdout",
     "output_type": "stream",
     "text": [
      "mcc: 0.35789091441111787\n",
      "f1 weighted: 0.8057012519909181\n",
      "accuracy: 0.7597659338921398%\n",
      "confusion mat:\n",
      "[[  458    30    26     7]\n",
      " [ 1999 39509  5685  3467]\n",
      " [  158   557  1994   393]\n",
      " [   40   741   568  1275]]\n"
     ]
    }
   ],
   "source": [
    "from matplotlib import pyplot as plt\n",
    "#TODO: metrics \n",
    "# TODO: learning curve\n",
    "# evaluate performance\n",
    "preds = model.predict(X_test)\n",
    "\n",
    "mcc = matthews_corrcoef(Y_test,preds)\n",
    "print(f\"mcc: {mcc}\")\n",
    "f1_weighted = f1_score(Y_test,preds,average='weighted')\n",
    "print(f\"f1 weighted: {f1_weighted}\")\n",
    "accuracy = accuracy_score(Y_test,preds)\n",
    "print(f\"accuracy: {accuracy}%\")\n",
    "confusion_mat = confusion_matrix(Y_test,preds)\n",
    "print(f\"confusion mat:\\n{confusion_mat}\")\n",
    "\n",
    "metrics = {\n",
    "    \"mcc\": mcc,\n",
    "    \"f1\": f1_weighted,\n",
    "    \"confusion_m\":confusion_mat,\n",
    "    \"acc\": accuracy\n",
    "}"
   ]
  },
  {
   "cell_type": "code",
   "execution_count": 20,
   "id": "33bcd434-d006-42ab-9a5d-c40f54ea5522",
   "metadata": {},
   "outputs": [
    {
     "data": {
      "text/html": [
       "<div>\n",
       "<style scoped>\n",
       "    .dataframe tbody tr th:only-of-type {\n",
       "        vertical-align: middle;\n",
       "    }\n",
       "\n",
       "    .dataframe tbody tr th {\n",
       "        vertical-align: top;\n",
       "    }\n",
       "\n",
       "    .dataframe thead th {\n",
       "        text-align: right;\n",
       "    }\n",
       "</style>\n",
       "<table border=\"1\" class=\"dataframe\">\n",
       "  <thead>\n",
       "    <tr style=\"text-align: right;\">\n",
       "      <th></th>\n",
       "      <th>iter</th>\n",
       "      <th>train_loss</th>\n",
       "      <th>val_loss</th>\n",
       "    </tr>\n",
       "  </thead>\n",
       "  <tbody>\n",
       "    <tr>\n",
       "      <th>0</th>\n",
       "      <td>0</td>\n",
       "      <td>1.255051</td>\n",
       "      <td>1.265255</td>\n",
       "    </tr>\n",
       "    <tr>\n",
       "      <th>1</th>\n",
       "      <td>1</td>\n",
       "      <td>1.153745</td>\n",
       "      <td>1.172727</td>\n",
       "    </tr>\n",
       "    <tr>\n",
       "      <th>2</th>\n",
       "      <td>2</td>\n",
       "      <td>1.071132</td>\n",
       "      <td>1.098047</td>\n",
       "    </tr>\n",
       "    <tr>\n",
       "      <th>3</th>\n",
       "      <td>3</td>\n",
       "      <td>1.004238</td>\n",
       "      <td>1.038136</td>\n",
       "    </tr>\n",
       "    <tr>\n",
       "      <th>4</th>\n",
       "      <td>4</td>\n",
       "      <td>0.947283</td>\n",
       "      <td>0.989283</td>\n",
       "    </tr>\n",
       "  </tbody>\n",
       "</table>\n",
       "</div>"
      ],
      "text/plain": [
       "   iter  train_loss  val_loss\n",
       "0     0    1.255051  1.265255\n",
       "1     1    1.153745  1.172727\n",
       "2     2    1.071132  1.098047\n",
       "3     3    1.004238  1.038136\n",
       "4     4    0.947283  0.989283"
      ]
     },
     "execution_count": 20,
     "metadata": {},
     "output_type": "execute_result"
    }
   ],
   "source": [
    "results = model.evals_result()\n",
    "train_loss = results['validation_0']['mlogloss']\n",
    "val_loss = results['validation_1']['mlogloss']\n",
    "rng = np.arange(len(train_loss))\n",
    "df_dict = {\n",
    "    \"iter\":rng,\n",
    "    \"train_loss\":train_loss,\n",
    "    \"val_loss\":val_loss\n",
    "}\n",
    "df = pd.DataFrame.from_dict(df_dict)"
   ]
  },
  {
   "cell_type": "code",
   "execution_count": 10,
   "id": "82599018-8101-471e-b843-d0cdaedcf4ca",
   "metadata": {},
   "outputs": [
    {
     "name": "stdout",
     "output_type": "stream",
     "text": [
      "Loading trial from path: trials/xgboost-small.p\n"
     ]
    }
   ],
   "source": [
    "trials_in_path = f\"trials/xgboost-{data_size}.p\"\n",
    "print(f\"Loading trial from path: {trials_in_path}\")\n",
    "with open(trials_in_path, 'rb') as in_file:\n",
    "    trials = pickle.load(in_file)\n",
    "\n",
    "space = spaces['xgboost']\n",
    "best_hyperparams = space_eval(space, trials.argmin)\n"
   ]
  },
  {
   "cell_type": "code",
   "execution_count": 11,
   "id": "cde0987b-7859-40a8-b121-a6e20d8e6671",
   "metadata": {},
   "outputs": [
    {
     "data": {
      "text/plain": [
       "{'alpha': 2.5254086047116173,\n",
       " 'cw_modifier': 1.5,\n",
       " 'eta': 0.1448110011361952,\n",
       " 'gamma': 2.8184397966710937,\n",
       " 'lambda': 2.2422484118022297,\n",
       " 'max_delta_step': 7.123125948002439,\n",
       " 'max_depth': 10,\n",
       " 'min_child_weight': 4.2808020966224,\n",
       " 'n_estimators': 1000,\n",
       " 'subsample': 0.6875835975467501,\n",
       " 'tree_method': 'exact'}"
      ]
     },
     "execution_count": 11,
     "metadata": {},
     "output_type": "execute_result"
    }
   ],
   "source": [
    "best_hyperparams['n_estimators']=5"
   ]
  },
  {
   "cell_type": "code",
   "execution_count": null,
   "id": "3d1d2610-5047-477e-bbf7-1443a015f5a5",
   "metadata": {},
   "outputs": [],
   "source": []
  }
 ],
 "metadata": {
  "kernelspec": {
   "display_name": "Python 3 (ipykernel)",
   "language": "python",
   "name": "python3"
  },
  "language_info": {
   "codemirror_mode": {
    "name": "ipython",
    "version": 3
   },
   "file_extension": ".py",
   "mimetype": "text/x-python",
   "name": "python",
   "nbconvert_exporter": "python",
   "pygments_lexer": "ipython3",
   "version": "3.7.11"
  }
 },
 "nbformat": 4,
 "nbformat_minor": 5
}
